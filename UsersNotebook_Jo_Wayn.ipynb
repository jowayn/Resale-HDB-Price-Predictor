{
  "nbformat": 4,
  "nbformat_minor": 0,
  "metadata": {
    "colab": {
      "provenance": []
    },
    "kernelspec": {
      "name": "python3",
      "display_name": "Python 3"
    },
    "language_info": {
      "name": "python"
    }
  },
  "cells": [
    {
      "cell_type": "code",
      "execution_count": 1,
      "metadata": {
        "id": "18MyeDQ4LvhP",
        "colab": {
          "base_uri": "https://localhost:8080/"
        },
        "outputId": "6c1216eb-e445-42f4-e955-807ffb53124b"
      },
      "outputs": [
        {
          "output_type": "stream",
          "name": "stdout",
          "text": [
            "Mounted at /content/drive\n",
            "/content/drive/My Drive\n"
          ]
        }
      ],
      "source": [
        "from google.colab import drive \n",
        "drive.mount('/content/drive')\n",
        "%cd /content/drive/My\\ Drive/"
      ]
    },
    {
      "cell_type": "code",
      "source": [
        "import pandas as pd\n",
        "import numpy as np\n",
        "import re\n",
        "from xgboost import XGBRegressor\n",
        "from sklearn.metrics import mean_squared_error, r2_score"
      ],
      "metadata": {
        "id": "Ar_5ZpoXWN1e"
      },
      "execution_count": 2,
      "outputs": []
    },
    {
      "cell_type": "code",
      "source": [
        "df = pd.read_csv(\"201701to202303_processed.csv\")\n",
        "X = df.drop([\"resale_price\"], axis=1)\n",
        "y = df.resale_price\n",
        "X = X.to_numpy()"
      ],
      "metadata": {
        "id": "06j8fYRVWS5G"
      },
      "execution_count": 3,
      "outputs": []
    },
    {
      "cell_type": "code",
      "source": [
        "best_xgbr = XGBRegressor(learning_rate= 0.2, max_depth= 6, n_estimators= 500)\n",
        "best_xgbr.fit(X, y)"
      ],
      "metadata": {
        "colab": {
          "base_uri": "https://localhost:8080/",
          "height": 248
        },
        "id": "O4-UftExW4hr",
        "outputId": "b88dbbe3-a591-445b-fdd5-3015feb0a9c8"
      },
      "execution_count": 4,
      "outputs": [
        {
          "output_type": "execute_result",
          "data": {
            "text/plain": [
              "XGBRegressor(base_score=None, booster=None, callbacks=None,\n",
              "             colsample_bylevel=None, colsample_bynode=None,\n",
              "             colsample_bytree=None, early_stopping_rounds=None,\n",
              "             enable_categorical=False, eval_metric=None, feature_types=None,\n",
              "             gamma=None, gpu_id=None, grow_policy=None, importance_type=None,\n",
              "             interaction_constraints=None, learning_rate=0.2, max_bin=None,\n",
              "             max_cat_threshold=None, max_cat_to_onehot=None,\n",
              "             max_delta_step=None, max_depth=6, max_leaves=None,\n",
              "             min_child_weight=None, missing=nan, monotone_constraints=None,\n",
              "             n_estimators=500, n_jobs=None, num_parallel_tree=None,\n",
              "             predictor=None, random_state=None, ...)"
            ],
            "text/html": [
              "<style>#sk-container-id-1 {color: black;background-color: white;}#sk-container-id-1 pre{padding: 0;}#sk-container-id-1 div.sk-toggleable {background-color: white;}#sk-container-id-1 label.sk-toggleable__label {cursor: pointer;display: block;width: 100%;margin-bottom: 0;padding: 0.3em;box-sizing: border-box;text-align: center;}#sk-container-id-1 label.sk-toggleable__label-arrow:before {content: \"▸\";float: left;margin-right: 0.25em;color: #696969;}#sk-container-id-1 label.sk-toggleable__label-arrow:hover:before {color: black;}#sk-container-id-1 div.sk-estimator:hover label.sk-toggleable__label-arrow:before {color: black;}#sk-container-id-1 div.sk-toggleable__content {max-height: 0;max-width: 0;overflow: hidden;text-align: left;background-color: #f0f8ff;}#sk-container-id-1 div.sk-toggleable__content pre {margin: 0.2em;color: black;border-radius: 0.25em;background-color: #f0f8ff;}#sk-container-id-1 input.sk-toggleable__control:checked~div.sk-toggleable__content {max-height: 200px;max-width: 100%;overflow: auto;}#sk-container-id-1 input.sk-toggleable__control:checked~label.sk-toggleable__label-arrow:before {content: \"▾\";}#sk-container-id-1 div.sk-estimator input.sk-toggleable__control:checked~label.sk-toggleable__label {background-color: #d4ebff;}#sk-container-id-1 div.sk-label input.sk-toggleable__control:checked~label.sk-toggleable__label {background-color: #d4ebff;}#sk-container-id-1 input.sk-hidden--visually {border: 0;clip: rect(1px 1px 1px 1px);clip: rect(1px, 1px, 1px, 1px);height: 1px;margin: -1px;overflow: hidden;padding: 0;position: absolute;width: 1px;}#sk-container-id-1 div.sk-estimator {font-family: monospace;background-color: #f0f8ff;border: 1px dotted black;border-radius: 0.25em;box-sizing: border-box;margin-bottom: 0.5em;}#sk-container-id-1 div.sk-estimator:hover {background-color: #d4ebff;}#sk-container-id-1 div.sk-parallel-item::after {content: \"\";width: 100%;border-bottom: 1px solid gray;flex-grow: 1;}#sk-container-id-1 div.sk-label:hover label.sk-toggleable__label {background-color: #d4ebff;}#sk-container-id-1 div.sk-serial::before {content: \"\";position: absolute;border-left: 1px solid gray;box-sizing: border-box;top: 0;bottom: 0;left: 50%;z-index: 0;}#sk-container-id-1 div.sk-serial {display: flex;flex-direction: column;align-items: center;background-color: white;padding-right: 0.2em;padding-left: 0.2em;position: relative;}#sk-container-id-1 div.sk-item {position: relative;z-index: 1;}#sk-container-id-1 div.sk-parallel {display: flex;align-items: stretch;justify-content: center;background-color: white;position: relative;}#sk-container-id-1 div.sk-item::before, #sk-container-id-1 div.sk-parallel-item::before {content: \"\";position: absolute;border-left: 1px solid gray;box-sizing: border-box;top: 0;bottom: 0;left: 50%;z-index: -1;}#sk-container-id-1 div.sk-parallel-item {display: flex;flex-direction: column;z-index: 1;position: relative;background-color: white;}#sk-container-id-1 div.sk-parallel-item:first-child::after {align-self: flex-end;width: 50%;}#sk-container-id-1 div.sk-parallel-item:last-child::after {align-self: flex-start;width: 50%;}#sk-container-id-1 div.sk-parallel-item:only-child::after {width: 0;}#sk-container-id-1 div.sk-dashed-wrapped {border: 1px dashed gray;margin: 0 0.4em 0.5em 0.4em;box-sizing: border-box;padding-bottom: 0.4em;background-color: white;}#sk-container-id-1 div.sk-label label {font-family: monospace;font-weight: bold;display: inline-block;line-height: 1.2em;}#sk-container-id-1 div.sk-label-container {text-align: center;}#sk-container-id-1 div.sk-container {/* jupyter's `normalize.less` sets `[hidden] { display: none; }` but bootstrap.min.css set `[hidden] { display: none !important; }` so we also need the `!important` here to be able to override the default hidden behavior on the sphinx rendered scikit-learn.org. See: https://github.com/scikit-learn/scikit-learn/issues/21755 */display: inline-block !important;position: relative;}#sk-container-id-1 div.sk-text-repr-fallback {display: none;}</style><div id=\"sk-container-id-1\" class=\"sk-top-container\"><div class=\"sk-text-repr-fallback\"><pre>XGBRegressor(base_score=None, booster=None, callbacks=None,\n",
              "             colsample_bylevel=None, colsample_bynode=None,\n",
              "             colsample_bytree=None, early_stopping_rounds=None,\n",
              "             enable_categorical=False, eval_metric=None, feature_types=None,\n",
              "             gamma=None, gpu_id=None, grow_policy=None, importance_type=None,\n",
              "             interaction_constraints=None, learning_rate=0.2, max_bin=None,\n",
              "             max_cat_threshold=None, max_cat_to_onehot=None,\n",
              "             max_delta_step=None, max_depth=6, max_leaves=None,\n",
              "             min_child_weight=None, missing=nan, monotone_constraints=None,\n",
              "             n_estimators=500, n_jobs=None, num_parallel_tree=None,\n",
              "             predictor=None, random_state=None, ...)</pre><b>In a Jupyter environment, please rerun this cell to show the HTML representation or trust the notebook. <br />On GitHub, the HTML representation is unable to render, please try loading this page with nbviewer.org.</b></div><div class=\"sk-container\" hidden><div class=\"sk-item\"><div class=\"sk-estimator sk-toggleable\"><input class=\"sk-toggleable__control sk-hidden--visually\" id=\"sk-estimator-id-1\" type=\"checkbox\" checked><label for=\"sk-estimator-id-1\" class=\"sk-toggleable__label sk-toggleable__label-arrow\">XGBRegressor</label><div class=\"sk-toggleable__content\"><pre>XGBRegressor(base_score=None, booster=None, callbacks=None,\n",
              "             colsample_bylevel=None, colsample_bynode=None,\n",
              "             colsample_bytree=None, early_stopping_rounds=None,\n",
              "             enable_categorical=False, eval_metric=None, feature_types=None,\n",
              "             gamma=None, gpu_id=None, grow_policy=None, importance_type=None,\n",
              "             interaction_constraints=None, learning_rate=0.2, max_bin=None,\n",
              "             max_cat_threshold=None, max_cat_to_onehot=None,\n",
              "             max_delta_step=None, max_depth=6, max_leaves=None,\n",
              "             min_child_weight=None, missing=nan, monotone_constraints=None,\n",
              "             n_estimators=500, n_jobs=None, num_parallel_tree=None,\n",
              "             predictor=None, random_state=None, ...)</pre></div></div></div></div></div>"
            ]
          },
          "metadata": {},
          "execution_count": 4
        }
      ]
    },
    {
      "cell_type": "code",
      "source": [
        "input_data = np.zeros(52)\n",
        "\n",
        "# Retrieve index based on first index 2017-01 as 1\n",
        "def get_month_index(month_str):\n",
        "    pattern = r'^20\\d{2}-(0?[1-9]|1[0-2])$'\n",
        "    if not re.match(pattern, month_str):\n",
        "        print(\"Invalid input\")\n",
        "        exit()\n",
        "    year, month = month_str.split('-')\n",
        "    year_diff = int(year) - 2017\n",
        "    month_diff = (int(month) - 1)\n",
        "    final = year_diff * 12 + month_diff\n",
        "    input_data[0] = int(final)\n",
        "    #print(year_diff * 12 + month_diff)\n",
        "\n",
        "# Lookup flat_type\n",
        "def lookup_flat_type(input_value):\n",
        "    found = False\n",
        "    for key, value in flat_type_data.items():\n",
        "        if str(input_value) in value:\n",
        "            #print(\"Flat type value\", key)\n",
        "            input_data[1] = int(key)\n",
        "            found = True\n",
        "    if not found:\n",
        "        print(\"Invalid input\")\n",
        "        exit()\n",
        "\n",
        "# Lookup storey_range_data\n",
        "def lookup_storey_range(input_storey):\n",
        "    found = False\n",
        "    for index, storey_range in storey_range_data.items():\n",
        "        range_start, range_end = map(int, storey_range.split(\" TO \"))\n",
        "        if range_start <= input_storey <= range_end:\n",
        "            #print(\"Storey value\", index)\n",
        "            input_data[2] = int(index)\n",
        "            found = True\n",
        "    if not found:\n",
        "        print(\"Invalid input\")\n",
        "        exit()\n",
        "\n",
        "# Lookup town\n",
        "def lookup_town(input_town):\n",
        "    found = False\n",
        "    for key, town in town_data.items():\n",
        "        if str(input_town).lower() in town.lower():\n",
        "            #print(\"Town value\", key)\n",
        "            input_data[key+3] = 1\n",
        "            found = True\n",
        "    if not found:\n",
        "        print(\"Invalid input\")\n",
        "        exit()\n",
        "\n",
        "# Lookup flat_model\n",
        "def lookup_flat_model(input_model):\n",
        "    found = False\n",
        "    for key, model in flat_model_data.items():\n",
        "        if str(input_model).lower() == model.lower():\n",
        "            #print(\"Flat model value\", key)\n",
        "            input_data[key+29] = 1\n",
        "            found = True\n",
        "    if not found:\n",
        "        print(\"Invalid input\")\n",
        "        exit()\n",
        "\n",
        "storey_range_data = {0: '01 TO 03', 1: '04 TO 06', 2: '07 TO 09', 3: '10 TO 12', 4: '13 TO 15', 5: '16 TO 18', 6: '19 TO 21', 7: '22 TO 24', 8: '25 TO 27', 9: '28 TO 30', 10: '31 TO 33', 11: '34 TO 36', 12: '37 TO 39', 13: '40 TO 42', 14: '43 TO 45', 15: '46 TO 48', 16: '49 TO 51'}\n",
        "flat_type_data = {0: '1 ROOM', 1: '2 ROOM', 2: '3 ROOM', 3: '4 ROOM', 4: '5 ROOM', 5: 'EXECUTIVE', 6: 'MULTI-GENERATION'}\n",
        "town_data = {0: 'ANG MO KIO', 1: 'BEDOK', 2: 'BISHAN', 3: 'BUKIT BATOK', 4: 'BUKIT MERAH', 5: 'BUKIT PANJANG', 6: 'BUKIT TIMAH', 7: 'CENTRAL AREA', 8: 'CHOA CHU KANG', 9: 'CLEMENTI', 10: 'GEYLANG', 11: 'HOUGANG', 12: 'JURONG EAST', 13: 'JURONG WEST', 14: 'KALLANG/WHAMPOA', 15: 'MARINE PARADE', 16: 'PASIR RIS', 17: 'PUNGGOL', 18: 'QUEENSTOWN', 19: 'SEMBAWANG', 20: 'SENGKANG', 21: 'SERANGOON', 22: 'TAMPINES', 23: 'TOA PAYOH', 24: 'WOODLANDS', 25: 'YISHUN'}\n",
        "flat_model_data = {0: '2-room', 1: '3Gen', 2: 'Adjoined flat', 3: 'Apartment', 4: 'DBSS', 5: 'Improved', 6: 'Improved-Maisonette', 7: 'Maisonette', 8: 'Model A', 9: 'Model A-Maisonette', 10: 'Model A2', 11: 'Multi Generation', 12: 'New Generation', 13: 'Premium Apartment', 14: 'Premium Apartment Loft', 15: 'Premium Maisonette', 16: 'Simplified', 17: 'Standard', 18: 'Terrace', 19: 'Type S1', 20: 'Type S2'}\n",
        "\n",
        "# Input month\n",
        "input_date = str(input(\"Enter year-month, e.g 2023-05: \"))\n",
        "month_index = get_month_index(input_date)\n",
        "\n",
        "# Input flat type\n",
        "input_flat_type = str(input(\"Enter number of rooms, e.g 3 or 'executive', or 'multi-generation': \"))\n",
        "flat_type_index = lookup_flat_type(input_flat_type)\n",
        "\n",
        "# Input storey\n",
        "input_storey = int(input(\"Enter the storey number, e.g 33: \"))\n",
        "storey_index = lookup_storey_range(input_storey)\n",
        "\n",
        "# Input town\n",
        "input_town = str(input(\"Enter the name of the town, e.g Hougang: \"))\n",
        "town_index = lookup_town(input_town)\n",
        "\n",
        "# Input flat model\n",
        "input_flat_model = str(input(\"Enter flat model, e.g Standard: \"))\n",
        "flat_model_index = lookup_flat_model(input_flat_model)\n",
        "\n",
        "# Input floor area\n",
        "input_data[50] = int(input(\"Enter floor area in sqm: \"))\n",
        "\n",
        "# Input lease commencement date\n",
        "input_data[51] = int(input(\"Enter your lease commencement year, e.g 2003: \"))\n",
        "\n",
        "print(\"\\n\")\n",
        "print(f\"The estimated resale price as of {input_date} for a {input_flat_type} room flat on the {input_storey} floor in {input_town}, with flat model \\n as {input_flat_model}, floor area in sqm as {input_data[50]} with its lease commencement year in {int(input_data[51])} is\", best_xgbr.predict([input_data]))"
      ],
      "metadata": {
        "colab": {
          "base_uri": "https://localhost:8080/"
        },
        "id": "fl-oXJFoXEeO",
        "outputId": "3e9c973d-912f-4b94-bd42-1bf540cdadae"
      },
      "execution_count": 9,
      "outputs": [
        {
          "output_type": "stream",
          "name": "stdout",
          "text": [
            "Enter year-month, e.g 2023-05: 2023-03\n",
            "Enter number of rooms, e.g 3 or 'executive', or 'multi-generation': 4\n",
            "Enter the storey number, e.g 33: 45\n",
            "Enter the name of the town, e.g Hougang: Punggol\n",
            "Enter flat model, e.g Standard: Standard\n",
            "Enter floor area in sqm: 85\n",
            "Enter your lease commencement year, e.g 2003: 2001\n",
            "\n",
            "\n",
            "The estimated resale price as of 2023-03 for a 4 room flat on the 45 floor in Punggol, with flat model \n",
            " as Standard, floor area in sqm as 85.0 with its lease commencement year in 2001 is [621665.75]\n"
          ]
        }
      ]
    }
  ]
}