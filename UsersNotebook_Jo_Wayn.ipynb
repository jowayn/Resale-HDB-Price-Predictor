{
  "cells": [
    {
      "cell_type": "code",
      "execution_count": 1,
      "metadata": {
        "colab": {
          "base_uri": "https://localhost:8080/"
        },
        "id": "18MyeDQ4LvhP",
        "outputId": "2736851c-7218-45df-9fb2-7304e787f53c"
      },
      "outputs": [
        {
          "name": "stdout",
          "output_type": "stream",
          "text": [
            "Mounted at /content/drive\n",
            "/content/drive/My Drive\n"
          ]
        }
      ],
      "source": [
        "# Run this cell only if using Google Colab\n",
        "\n",
        "from google.colab import drive \n",
        "drive.mount('/content/drive')\n",
        "%cd /content/drive/My\\ Drive/"
      ]
    },
    {
      "cell_type": "code",
      "execution_count": 2,
      "metadata": {
        "id": "Ar_5ZpoXWN1e"
      },
      "outputs": [],
      "source": [
        "# Run this cell to initialise the training data and train the model\n",
        "# Note that 201701to202303_processed.csv has to be in the same folder as this notebook\n",
        "\n",
        "import pandas as pd\n",
        "import numpy as np\n",
        "import re\n",
        "from xgboost import XGBRegressor\n",
        "from sklearn.metrics import mean_squared_error, r2_score\n",
        "df = pd.read_csv(\"201701to202303_processed.csv\")\n",
        "X = df.drop([\"resale_price\"], axis=1)\n",
        "y = df.resale_price\n",
        "X = X.to_numpy()\n",
        "best_xgbr = XGBRegressor(learning_rate= 0.2, max_depth= 6, n_estimators= 500)\n",
        "best_xgbr.fit(X, y)"
      ]
    },
    {
      "cell_type": "code",
      "execution_count": 14,
      "metadata": {
        "colab": {
          "base_uri": "https://localhost:8080/"
        },
        "id": "fl-oXJFoXEeO",
        "outputId": "ad583406-8d06-42ba-85a6-3762ab13e411"
      },
      "outputs": [
        {
          "name": "stdout",
          "output_type": "stream",
          "text": [
            "Enter year-month, e.g 2023-05: 2026-10\n",
            "Enter number of rooms, e.g 3 or 'executive', or 'multi-generation': 5\n",
            "Enter the storey number, e.g 33: 25\n",
            "Enter the name of the town, e.g Hougang: Punggol\n",
            "Enter flat model, e.g Standard: Standard\n",
            "Enter floor area in sqm: 80\n",
            "Enter your lease commencement year, e.g 2003: 2001\n",
            "\n",
            "\n",
            "The estimated resale price as of 2026-10 for a 5 room flat on the 25 floor in Punggol, with flat model \n",
            " as Standard, floor area in sqm as 80.0 with its lease commencement year in 2001 is [534446.4]\n"
          ]
        }
      ],
      "source": [
        "# Run this cell to enter flat information and make predictions\n",
        "\n",
        "input_data = np.zeros(52)\n",
        "\n",
        "# Retrieve index based on first index 2017-01 as 1\n",
        "def get_month_index(month_str):\n",
        "    pattern = r'^20\\d{2}-(0?[1-9]|1[0-2])$'\n",
        "    if not re.match(pattern, month_str):\n",
        "        print(\"Invalid input\")\n",
        "        exit()\n",
        "    year, month = month_str.split('-')\n",
        "    year_diff = int(year) - 2017\n",
        "    month_diff = (int(month) - 1)\n",
        "    final = year_diff * 12 + month_diff\n",
        "    input_data[0] = int(final)\n",
        "    #print(year_diff * 12 + month_diff)\n",
        "\n",
        "# Lookup flat_type\n",
        "def lookup_flat_type(input_value):\n",
        "    found = False\n",
        "    for key, value in flat_type_data.items():\n",
        "        if str(input_value) in value:\n",
        "            #print(\"Flat type value\", key)\n",
        "            input_data[1] = int(key)\n",
        "            found = True\n",
        "    if not found:\n",
        "        print(\"Invalid input\")\n",
        "        exit()\n",
        "\n",
        "# Lookup storey_range_data\n",
        "def lookup_storey_range(input_storey):\n",
        "    found = False\n",
        "    for index, storey_range in storey_range_data.items():\n",
        "        range_start, range_end = map(int, storey_range.split(\" TO \"))\n",
        "        if range_start <= input_storey <= range_end:\n",
        "            #print(\"Storey value\", index)\n",
        "            input_data[2] = int(index)\n",
        "            found = True\n",
        "    if not found:\n",
        "        print(\"Invalid input\")\n",
        "        exit()\n",
        "\n",
        "# Lookup town\n",
        "def lookup_town(input_town):\n",
        "    found = False\n",
        "    for key, town in town_data.items():\n",
        "        if str(input_town).lower() in town.lower():\n",
        "            #print(\"Town value\", key)\n",
        "            input_data[key+3] = 1\n",
        "            found = True\n",
        "    if not found:\n",
        "        print(\"Invalid input\")\n",
        "        exit()\n",
        "\n",
        "# Lookup flat_model\n",
        "def lookup_flat_model(input_model):\n",
        "    found = False\n",
        "    for key, model in flat_model_data.items():\n",
        "        if str(input_model).lower() == model.lower():\n",
        "            #print(\"Flat model value\", key)\n",
        "            input_data[key+29] = 1\n",
        "            found = True\n",
        "    if not found:\n",
        "        print(\"Invalid input\")\n",
        "        exit()\n",
        "\n",
        "storey_range_data = {0: '01 TO 03', 1: '04 TO 06', 2: '07 TO 09', 3: '10 TO 12', 4: '13 TO 15', 5: '16 TO 18', 6: '19 TO 21', 7: '22 TO 24', 8: '25 TO 27', 9: '28 TO 30', 10: '31 TO 33', 11: '34 TO 36', 12: '37 TO 39', 13: '40 TO 42', 14: '43 TO 45', 15: '46 TO 48', 16: '49 TO 51'}\n",
        "flat_type_data = {0: '1 ROOM', 1: '2 ROOM', 2: '3 ROOM', 3: '4 ROOM', 4: '5 ROOM', 5: 'EXECUTIVE', 6: 'MULTI-GENERATION'}\n",
        "town_data = {0: 'ANG MO KIO', 1: 'BEDOK', 2: 'BISHAN', 3: 'BUKIT BATOK', 4: 'BUKIT MERAH', 5: 'BUKIT PANJANG', 6: 'BUKIT TIMAH', 7: 'CENTRAL AREA', 8: 'CHOA CHU KANG', 9: 'CLEMENTI', 10: 'GEYLANG', 11: 'HOUGANG', 12: 'JURONG EAST', 13: 'JURONG WEST', 14: 'KALLANG/WHAMPOA', 15: 'MARINE PARADE', 16: 'PASIR RIS', 17: 'PUNGGOL', 18: 'QUEENSTOWN', 19: 'SEMBAWANG', 20: 'SENGKANG', 21: 'SERANGOON', 22: 'TAMPINES', 23: 'TOA PAYOH', 24: 'WOODLANDS', 25: 'YISHUN'}\n",
        "flat_model_data = {0: '2-room', 1: '3Gen', 2: 'Adjoined flat', 3: 'Apartment', 4: 'DBSS', 5: 'Improved', 6: 'Improved-Maisonette', 7: 'Maisonette', 8: 'Model A', 9: 'Model A-Maisonette', 10: 'Model A2', 11: 'Multi Generation', 12: 'New Generation', 13: 'Premium Apartment', 14: 'Premium Apartment Loft', 15: 'Premium Maisonette', 16: 'Simplified', 17: 'Standard', 18: 'Terrace', 19: 'Type S1', 20: 'Type S2'}\n",
        "\n",
        "# Input month\n",
        "input_date = str(input(\"Enter year-month, e.g 2023-05: \"))\n",
        "month_index = get_month_index(input_date)\n",
        "\n",
        "# Input flat type\n",
        "input_flat_type = str(input(\"Enter number of rooms, e.g 3 or 'executive', or 'multi-generation': \"))\n",
        "flat_type_index = lookup_flat_type(input_flat_type)\n",
        "\n",
        "# Input storey\n",
        "input_storey = int(input(\"Enter the storey number, e.g 33: \"))\n",
        "storey_index = lookup_storey_range(input_storey)\n",
        "\n",
        "# Input town\n",
        "input_town = str(input(\"Enter the name of the town, e.g Hougang: \"))\n",
        "town_index = lookup_town(input_town)\n",
        "\n",
        "# Input flat model\n",
        "input_flat_model = str(input(\"Enter flat model, e.g Standard: \"))\n",
        "flat_model_index = lookup_flat_model(input_flat_model)\n",
        "\n",
        "# Input floor area\n",
        "input_data[50] = int(input(\"Enter floor area in sqm: \"))\n",
        "\n",
        "# Input lease commencement date\n",
        "input_data[51] = int(input(\"Enter your lease commencement year, e.g 2003: \"))\n",
        "\n",
        "print(\"\\n\")\n",
        "print(f\"The estimated resale price as of {input_date} for a {input_flat_type} room flat on the {input_storey} floor in {input_town}, with flat model \\n as {input_flat_model}, floor area in sqm as {input_data[50]} with its lease commencement year in {int(input_data[51])} is\", best_xgbr.predict([input_data]))"
      ]
    }
  ],
  "metadata": {
    "colab": {
      "provenance": []
    },
    "kernelspec": {
      "display_name": "Python 3",
      "name": "python3"
    },
    "language_info": {
      "name": "python"
    }
  },
  "nbformat": 4,
  "nbformat_minor": 0
}
